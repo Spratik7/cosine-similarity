{
 "cells": [
  {
   "cell_type": "code",
   "execution_count": 1,
   "metadata": {},
   "outputs": [],
   "source": [
    "import numpy\n",
    "from numpy.linalg import norm"
   ]
  },
  {
   "cell_type": "markdown",
   "metadata": {},
   "source": [
    "## Cosine Similarity Function"
   ]
  },
  {
   "cell_type": "code",
   "execution_count": 2,
   "metadata": {},
   "outputs": [],
   "source": [
    "def cosine_similarity(a , b):\n",
    "    numerator = numpy.dot(a , b)\n",
    "    denominator = norm(a) * norm(b)\n",
    "    return numerator/denominator"
   ]
  },
  {
   "cell_type": "markdown",
   "metadata": {},
   "source": [
    "## Importing the Glove/Loading Vectors"
   ]
  },
  {
   "cell_type": "code",
   "execution_count": 3,
   "metadata": {},
   "outputs": [
    {
     "name": "stdout",
     "output_type": "stream",
     "text": [
      "Loaded 400000 word vectors.\n"
     ]
    }
   ],
   "source": [
    "embeddings_index = dict()\n",
    "with open('/home/pratik/Desktop/glove.6B/glove.6B.300d.txt') as f:\n",
    "    for line in f:\n",
    "        values = line.split()\n",
    "        word = values[0]\n",
    "        coefs = numpy.asarray(values[1:], dtype='float32')\n",
    "        embeddings_index[word] = coefs\n",
    "print('Loaded %s word vectors.' % len(embeddings_index))"
   ]
  },
  {
   "cell_type": "markdown",
   "metadata": {},
   "source": [
    "## Finding similarities of terms with each word in Glove"
   ]
  },
  {
   "cell_type": "code",
   "execution_count": 8,
   "metadata": {},
   "outputs": [],
   "source": [
    "similarities = {'wikipedia' : [] , 'software' : [] , 'jupiter' : [] , 'wise' : []}\n",
    "for key in similarities.keys():    \n",
    "    temp = dict()\n",
    "    for iterator in embeddings_index.keys():\n",
    "        temp[iterator] = cosine_similarity(embeddings_index.get(key) , embeddings_index.get(iterator))\n",
    "    similarities[key] = temp"
   ]
  },
  {
   "cell_type": "markdown",
   "metadata": {},
   "source": [
    "## Sorting according to the similarities"
   ]
  },
  {
   "cell_type": "code",
   "execution_count": 9,
   "metadata": {
    "scrolled": true
   },
   "outputs": [
    {
     "name": "stdout",
     "output_type": "stream",
     "text": [
      "Similar words to  wikipedia  : \n",
      "[('encyclopedia', 0.5071936), ('wikimedia', 0.50395596), ('wiki', 0.49234113), ('facebook', 0.46857363), ('blog', 0.45391086), ('conservapedia', 0.45230368), ('youtube', 0.4515113), ('britannica', 0.4490937), ('websites', 0.44877538), ('blogs', 0.43505958)] \n",
      "\n",
      "Similar words to  software  : \n",
      "[('computer', 0.7334419), ('microsoft', 0.69467694), ('hardware', 0.65773684), ('computers', 0.62335396), ('internet', 0.5980143), ('server', 0.595503), ('pc', 0.592873), ('users', 0.5790902), ('systems', 0.5759312), ('desktop', 0.57592833)] \n",
      "\n",
      "Similar words to  jupiter  : \n",
      "[('moons', 0.631803), ('planets', 0.58829653), ('uranus', 0.5754996), ('planet', 0.5631542), ('saturn', 0.5374636), ('neptune', 0.52758086), ('mars', 0.5247786), ('comet', 0.5238447), ('io', 0.51876086), ('orbits', 0.51584727)] \n",
      "\n",
      "Similar words to  wise  : \n",
      "[('foolish', 0.53453374), ('prudent', 0.50647175), ('smart', 0.4634279), ('shrewd', 0.45873114), ('advice', 0.45549622), ('good', 0.45343086), ('savvy', 0.44320342), ('intelligent', 0.43493003), ('sensible', 0.4327893), ('thoughtful', 0.43142617)] \n",
      "\n"
     ]
    }
   ],
   "source": [
    "for term in similarities.keys():\n",
    "    print('Similar words to ' , term , ' : ')\n",
    "    print(sorted(similarities[term].items() , key = lambda x : x[1])[-2 : len(similarities[term]) - 12 : -1],'\\n')"
   ]
  },
  {
   "cell_type": "code",
   "execution_count": null,
   "metadata": {},
   "outputs": [],
   "source": []
  }
 ],
 "metadata": {
  "kernelspec": {
   "display_name": "Python 3",
   "language": "python",
   "name": "python3"
  },
  "language_info": {
   "codemirror_mode": {
    "name": "ipython",
    "version": 3
   },
   "file_extension": ".py",
   "mimetype": "text/x-python",
   "name": "python",
   "nbconvert_exporter": "python",
   "pygments_lexer": "ipython3",
   "version": "3.6.8"
  }
 },
 "nbformat": 4,
 "nbformat_minor": 2
}
