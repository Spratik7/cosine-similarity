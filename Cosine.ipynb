{
 "cells": [
  {
   "cell_type": "code",
   "execution_count": 1,
   "metadata": {},
   "outputs": [
    {
     "name": "stderr",
     "output_type": "stream",
     "text": [
      "Using TensorFlow backend.\n"
     ]
    }
   ],
   "source": [
    "from numpy import array\n",
    "from keras.preprocessing.text import one_hot\n",
    "from keras.preprocessing.sequence import pad_sequences\n",
    "from keras.models import Sequential\n",
    "from keras.layers import Dense\n",
    "from keras.layers import Flatten\n",
    "from keras.layers.embeddings import Embedding\n",
    "import numpy\n",
    "from numpy.linalg import norm\n",
    "import heapq"
   ]
  },
  {
   "cell_type": "code",
   "execution_count": 2,
   "metadata": {},
   "outputs": [],
   "source": [
    "# define documents\n",
    "docs = ['Well done!','Good work','Great effort',\n",
    "\t\t'nice work',\n",
    "\t\t'Excellent!',\n",
    "\t\t'Weak',\n",
    "\t\t'Poor effort!',\n",
    "\t\t'not good',\n",
    "\t\t'poor work',\n",
    "\t\t'Could have done better.']\n",
    "# define class labels\n",
    "labels = array([1,1,1,1,1,0,0,0,0,0])"
   ]
  },
  {
   "cell_type": "code",
   "execution_count": null,
   "metadata": {},
   "outputs": [],
   "source": []
  },
  {
   "cell_type": "code",
   "execution_count": 3,
   "metadata": {},
   "outputs": [
    {
     "name": "stdout",
     "output_type": "stream",
     "text": [
      "[[4, 29], [7, 34], [2, 14], [42, 34], [16], [4], [12, 14], [22, 7], [12, 34], [16, 42, 29, 41]]\n"
     ]
    }
   ],
   "source": [
    "# integer encode the documents\n",
    "vocab_size = 50\n",
    "encoded_docs = [one_hot(d, vocab_size) for d in docs]\n",
    "print(encoded_docs)"
   ]
  },
  {
   "cell_type": "code",
   "execution_count": 4,
   "metadata": {},
   "outputs": [
    {
     "name": "stdout",
     "output_type": "stream",
     "text": [
      "[[ 4 29  0  0]\n",
      " [ 7 34  0  0]\n",
      " [ 2 14  0  0]\n",
      " [42 34  0  0]\n",
      " [16  0  0  0]\n",
      " [ 4  0  0  0]\n",
      " [12 14  0  0]\n",
      " [22  7  0  0]\n",
      " [12 34  0  0]\n",
      " [16 42 29 41]]\n"
     ]
    }
   ],
   "source": [
    "# pad documents to a max length of 4 words\n",
    "max_length = 4\n",
    "padded_docs = pad_sequences(encoded_docs, maxlen=max_length, padding='post')\n",
    "print(padded_docs)"
   ]
  },
  {
   "cell_type": "code",
   "execution_count": 5,
   "metadata": {},
   "outputs": [],
   "source": [
    "# define the model\n",
    "model = Sequential()\n",
    "model.add(Embedding(input_dim=vocab_size, output_dim=8, input_length=max_length))\n",
    "model.add(Flatten())\n",
    "model.add(Dense(1, activation='sigmoid'))"
   ]
  },
  {
   "cell_type": "code",
   "execution_count": 6,
   "metadata": {},
   "outputs": [
    {
     "name": "stdout",
     "output_type": "stream",
     "text": [
      "_________________________________________________________________\n",
      "Layer (type)                 Output Shape              Param #   \n",
      "=================================================================\n",
      "embedding_1 (Embedding)      (None, 4, 8)              400       \n",
      "_________________________________________________________________\n",
      "flatten_1 (Flatten)          (None, 32)                0         \n",
      "_________________________________________________________________\n",
      "dense_1 (Dense)              (None, 1)                 33        \n",
      "=================================================================\n",
      "Total params: 433\n",
      "Trainable params: 433\n",
      "Non-trainable params: 0\n",
      "_________________________________________________________________\n",
      "None\n"
     ]
    }
   ],
   "source": [
    "# compile the model\n",
    "model.compile(optimizer='sgd', loss='binary_crossentropy', metrics=['acc'])\n",
    "# summarize the model\n",
    "print(model.summary())"
   ]
  },
  {
   "cell_type": "code",
   "execution_count": 7,
   "metadata": {},
   "outputs": [
    {
     "name": "stdout",
     "output_type": "stream",
     "text": [
      "Accuracy: 50.000000\n"
     ]
    }
   ],
   "source": [
    "# fit the model\n",
    "model.fit(padded_docs, labels, epochs=50, verbose=0)\n",
    "# evaluate the model\n",
    "loss, accuracy = model.evaluate(padded_docs, labels, verbose=0)\n",
    "print('Accuracy: %f' % (accuracy*100))"
   ]
  },
  {
   "cell_type": "markdown",
   "metadata": {},
   "source": []
  },
  {
   "cell_type": "markdown",
   "metadata": {
    "collapsed": true
   },
   "source": [
    "# GloVe"
   ]
  },
  {
   "cell_type": "markdown",
   "metadata": {},
   "source": [
    "### Cosine Similarity Function"
   ]
  },
  {
   "cell_type": "code",
   "execution_count": 8,
   "metadata": {},
   "outputs": [],
   "source": [
    "def cosine_similarity(a , b):\n",
    "    numerator = numpy.dot(a , b)\n",
    "    denominator = norm(a) * norm(b)\n",
    "    return numerator/denominator"
   ]
  },
  {
   "cell_type": "code",
   "execution_count": 9,
   "metadata": {},
   "outputs": [
    {
     "name": "stdout",
     "output_type": "stream",
     "text": [
      "[[6, 2], [3, 1], [7, 4], [8, 1], [9], [10], [5, 4], [11, 3], [5, 1], [12, 13, 2, 14]]\n",
      "[[ 6  2  0  0]\n",
      " [ 3  1  0  0]\n",
      " [ 7  4  0  0]\n",
      " [ 8  1  0  0]\n",
      " [ 9  0  0  0]\n",
      " [10  0  0  0]\n",
      " [ 5  4  0  0]\n",
      " [11  3  0  0]\n",
      " [ 5  1  0  0]\n",
      " [12 13  2 14]]\n"
     ]
    }
   ],
   "source": [
    "from keras.preprocessing.text import Tokenizer\n",
    "\n",
    "docs = ['Well done!',\n",
    "\t\t'Good work',\n",
    "\t\t'Great effort',\n",
    "\t\t'nice work',\n",
    "\t\t'Excellent!',\n",
    "\t\t'Weak',\n",
    "\t\t'Poor effort!',\n",
    "\t\t'not good',\n",
    "\t\t'poor work',\n",
    "\t\t'Could have done better.']\n",
    "# define class labels\n",
    "labels = array([1,1,1,1,1,0,0,0,0,0])\n",
    "# prepare tokenizer\n",
    "t = Tokenizer()\n",
    "t.fit_on_texts(docs)\n",
    "vocab_size = len(t.word_index) + 1\n",
    "# integer encode the documents\n",
    "encoded_docs = t.texts_to_sequences(docs)\n",
    "print(encoded_docs)\n",
    "# pad documents to a max length of 4 words\n",
    "max_length = 4\n",
    "padded_docs = pad_sequences(encoded_docs, maxlen=max_length, padding='post')\n",
    "print(padded_docs)"
   ]
  },
  {
   "cell_type": "code",
   "execution_count": 10,
   "metadata": {},
   "outputs": [],
   "source": [
    "docs = ['Well done!',\n",
    "\t\t'Good work',\n",
    "\t\t'Great effort',\n",
    "\t\t'nice work',\n",
    "\t\t'Excellent!',\n",
    "\t\t'Weak',\n",
    "\t\t'Poor effort!',\n",
    "\t\t'not good',\n",
    "\t\t'poor work',\n",
    "\t\t'Could have done better.']\n",
    "# define class labels\n",
    "labels = array([1,1,1,1,1,0,0,0,0,0])"
   ]
  },
  {
   "cell_type": "code",
   "execution_count": 11,
   "metadata": {},
   "outputs": [
    {
     "name": "stdout",
     "output_type": "stream",
     "text": [
      "defaultdict(<class 'int'>, {'done': 2, 'well': 1, 'good': 2, 'work': 3, 'effort': 2, 'great': 1, 'nice': 1, 'excellent': 1, 'weak': 1, 'poor': 2, 'not': 1, 'have': 1, 'could': 1, 'better': 1})\n"
     ]
    }
   ],
   "source": [
    "t = Tokenizer()\n",
    "t.fit_on_texts(docs)\n",
    "print(t.word_docs)"
   ]
  },
  {
   "cell_type": "code",
   "execution_count": 12,
   "metadata": {},
   "outputs": [],
   "source": [
    "vocab = len(t.word_counts) + 1"
   ]
  },
  {
   "cell_type": "code",
   "execution_count": 13,
   "metadata": {},
   "outputs": [],
   "source": [
    "encoded_docs = t.texts_to_sequences(docs)\n",
    "padded_docs = pad_sequences(encoded_docs, maxlen=4, padding=\"post\")"
   ]
  },
  {
   "cell_type": "code",
   "execution_count": 15,
   "metadata": {},
   "outputs": [
    {
     "name": "stdout",
     "output_type": "stream",
     "text": [
      "Loaded 400000 word vectors.\n"
     ]
    }
   ],
   "source": [
    "import numpy as np\n",
    "# load the whole embedding into memory\n",
    "embeddings_index = dict()\n",
    "with open('/home/pratik/Desktop/glove.6B/glove.6B.100d.txt') as f:\n",
    "    for line in f:\n",
    "        values = line.split()\n",
    "        word = values[0]\n",
    "        coefs = np.asarray(values[1:], dtype='float32')\n",
    "        embeddings_index[word] = coefs\n",
    "print('Loaded %s word vectors.' % len(embeddings_index))"
   ]
  },
  {
   "cell_type": "code",
   "execution_count": 20,
   "metadata": {},
   "outputs": [],
   "source": [
    "# cosine_similarity(embeddings_index.get('cat') , embeddings_index.get())\n",
    "scores_list = []\n",
    "catN = embeddings_index.get('rat')\n",
    "for iterator in embeddings_index.keys():\n",
    "#     print(heapq.nlargest(10 , cosine_similarity(catN , embeddings_index.get(iterator))))\n",
    "    scores_list.append(cosine_similarity(catN , embeddings_index.get(iterator)))"
   ]
  },
  {
   "cell_type": "code",
   "execution_count": 21,
   "metadata": {},
   "outputs": [
    {
     "data": {
      "text/plain": [
       "array([-0.46285 ,  0.069915,  0.59665 , -1.3745  , -0.55982 ,  0.027237,\n",
       "        0.32086 , -0.10734 ,  0.17712 , -0.31103 ], dtype=float32)"
      ]
     },
     "execution_count": 21,
     "metadata": {},
     "output_type": "execute_result"
    }
   ],
   "source": [
    "embeddings_index.get('rat')[:10]"
   ]
  },
  {
   "cell_type": "markdown",
   "metadata": {},
   "source": [
    "# Embedding Matrix of vocab\n",
    "### Matrix of weights only for words in our training data"
   ]
  },
  {
   "cell_type": "code",
   "execution_count": 22,
   "metadata": {},
   "outputs": [],
   "source": [
    "# create a weight matrix for words in training docs\n",
    "# 100 is embedding size, if you are using \n",
    "embedding_matrix = np.zeros((vocab_size, 100))\n",
    "for word, i in t.word_index.items():\n",
    "    embedding_vector = embeddings_index.get(word)\n",
    "    if embedding_vector is not None:\n",
    "        embedding_matrix[i] = embedding_vector"
   ]
  },
  {
   "cell_type": "code",
   "execution_count": 23,
   "metadata": {},
   "outputs": [
    {
     "name": "stdout",
     "output_type": "stream",
     "text": [
      "_________________________________________________________________\n",
      "Layer (type)                 Output Shape              Param #   \n",
      "=================================================================\n",
      "embedding_3 (Embedding)      (None, 4, 100)            1500      \n",
      "_________________________________________________________________\n",
      "flatten_3 (Flatten)          (None, 400)               0         \n",
      "_________________________________________________________________\n",
      "dense_4 (Dense)              (None, 256)               102656    \n",
      "_________________________________________________________________\n",
      "dense_5 (Dense)              (None, 1)                 257       \n",
      "=================================================================\n",
      "Total params: 104,413\n",
      "Trainable params: 102,913\n",
      "Non-trainable params: 1,500\n",
      "_________________________________________________________________\n",
      "None\n",
      "Epoch 1/50\n",
      "10/10 [==============================] - 2s 192ms/step - loss: 0.7287 - acc: 0.5000\n",
      "Epoch 2/50\n",
      "10/10 [==============================] - 0s 2ms/step - loss: 0.6564 - acc: 0.7000\n",
      "Epoch 3/50\n",
      "10/10 [==============================] - 0s 873us/step - loss: 0.6096 - acc: 0.9000\n",
      "Epoch 4/50\n",
      "10/10 [==============================] - 0s 1ms/step - loss: 0.5724 - acc: 0.8000\n",
      "Epoch 5/50\n",
      "10/10 [==============================] - 0s 766us/step - loss: 0.5357 - acc: 0.9000\n",
      "Epoch 6/50\n",
      "10/10 [==============================] - 0s 3ms/step - loss: 0.4993 - acc: 1.0000\n",
      "Epoch 7/50\n",
      "10/10 [==============================] - 0s 913us/step - loss: 0.4651 - acc: 1.0000\n",
      "Epoch 8/50\n",
      "10/10 [==============================] - 0s 1ms/step - loss: 0.4347 - acc: 1.0000\n",
      "Epoch 9/50\n",
      "10/10 [==============================] - 0s 1ms/step - loss: 0.4082 - acc: 1.0000\n",
      "Epoch 10/50\n",
      "10/10 [==============================] - 0s 1ms/step - loss: 0.3846 - acc: 1.0000\n",
      "Epoch 11/50\n",
      "10/10 [==============================] - 0s 998us/step - loss: 0.3625 - acc: 1.0000\n",
      "Epoch 12/50\n",
      "10/10 [==============================] - 0s 856us/step - loss: 0.3411 - acc: 1.0000\n",
      "Epoch 13/50\n",
      "10/10 [==============================] - 0s 797us/step - loss: 0.3202 - acc: 1.0000\n",
      "Epoch 14/50\n",
      "10/10 [==============================] - 0s 2ms/step - loss: 0.2999 - acc: 1.0000\n",
      "Epoch 15/50\n",
      "10/10 [==============================] - 0s 1ms/step - loss: 0.2808 - acc: 1.0000\n",
      "Epoch 16/50\n",
      "10/10 [==============================] - 0s 950us/step - loss: 0.2630 - acc: 1.0000\n",
      "Epoch 17/50\n",
      "10/10 [==============================] - 0s 912us/step - loss: 0.2466 - acc: 1.0000\n",
      "Epoch 18/50\n",
      "10/10 [==============================] - 0s 1ms/step - loss: 0.2316 - acc: 1.0000\n",
      "Epoch 19/50\n",
      "10/10 [==============================] - 0s 1ms/step - loss: 0.2175 - acc: 1.0000\n",
      "Epoch 20/50\n",
      "10/10 [==============================] - 0s 1ms/step - loss: 0.2043 - acc: 1.0000\n",
      "Epoch 21/50\n",
      "10/10 [==============================] - 0s 833us/step - loss: 0.1917 - acc: 1.0000\n",
      "Epoch 22/50\n",
      "10/10 [==============================] - 0s 2ms/step - loss: 0.1797 - acc: 1.0000\n",
      "Epoch 23/50\n",
      "10/10 [==============================] - 0s 1ms/step - loss: 0.1684 - acc: 1.0000\n",
      "Epoch 24/50\n",
      "10/10 [==============================] - 0s 2ms/step - loss: 0.1577 - acc: 1.0000\n",
      "Epoch 25/50\n",
      "10/10 [==============================] - 0s 894us/step - loss: 0.1477 - acc: 1.0000\n",
      "Epoch 26/50\n",
      "10/10 [==============================] - 0s 1ms/step - loss: 0.1385 - acc: 1.0000\n",
      "Epoch 27/50\n",
      "10/10 [==============================] - 0s 1ms/step - loss: 0.1299 - acc: 1.0000\n",
      "Epoch 28/50\n",
      "10/10 [==============================] - 0s 1ms/step - loss: 0.1220 - acc: 1.0000\n",
      "Epoch 29/50\n",
      "10/10 [==============================] - 0s 1ms/step - loss: 0.1147 - acc: 1.0000\n",
      "Epoch 30/50\n",
      "10/10 [==============================] - 0s 2ms/step - loss: 0.1078 - acc: 1.0000\n",
      "Epoch 31/50\n",
      "10/10 [==============================] - 0s 2ms/step - loss: 0.1014 - acc: 1.0000\n",
      "Epoch 32/50\n",
      "10/10 [==============================] - 0s 1ms/step - loss: 0.0954 - acc: 1.0000\n",
      "Epoch 33/50\n",
      "10/10 [==============================] - 0s 2ms/step - loss: 0.0898 - acc: 1.0000\n",
      "Epoch 34/50\n",
      "10/10 [==============================] - 0s 2ms/step - loss: 0.0845 - acc: 1.0000\n",
      "Epoch 35/50\n",
      "10/10 [==============================] - 0s 3ms/step - loss: 0.0797 - acc: 1.0000\n",
      "Epoch 36/50\n",
      "10/10 [==============================] - 0s 2ms/step - loss: 0.0751 - acc: 1.0000\n",
      "Epoch 37/50\n",
      "10/10 [==============================] - 0s 1ms/step - loss: 0.0710 - acc: 1.0000\n",
      "Epoch 38/50\n",
      "10/10 [==============================] - 0s 1ms/step - loss: 0.0671 - acc: 1.0000\n",
      "Epoch 39/50\n",
      "10/10 [==============================] - 0s 2ms/step - loss: 0.0635 - acc: 1.0000\n",
      "Epoch 40/50\n",
      "10/10 [==============================] - 0s 1ms/step - loss: 0.0602 - acc: 1.0000\n",
      "Epoch 41/50\n",
      "10/10 [==============================] - 0s 863us/step - loss: 0.0571 - acc: 1.0000\n",
      "Epoch 42/50\n",
      "10/10 [==============================] - 0s 1ms/step - loss: 0.0542 - acc: 1.0000\n",
      "Epoch 43/50\n",
      "10/10 [==============================] - 0s 1ms/step - loss: 0.0515 - acc: 1.0000\n",
      "Epoch 44/50\n",
      "10/10 [==============================] - 0s 1ms/step - loss: 0.0490 - acc: 1.0000\n",
      "Epoch 45/50\n",
      "10/10 [==============================] - 0s 1ms/step - loss: 0.0466 - acc: 1.0000\n",
      "Epoch 46/50\n",
      "10/10 [==============================] - 0s 1ms/step - loss: 0.0444 - acc: 1.0000\n",
      "Epoch 47/50\n",
      "10/10 [==============================] - 0s 960us/step - loss: 0.0424 - acc: 1.0000\n",
      "Epoch 48/50\n",
      "10/10 [==============================] - 0s 1ms/step - loss: 0.0405 - acc: 1.0000\n",
      "Epoch 49/50\n",
      "10/10 [==============================] - 0s 1ms/step - loss: 0.0387 - acc: 1.0000\n",
      "Epoch 50/50\n",
      "10/10 [==============================] - 0s 1ms/step - loss: 0.0370 - acc: 1.0000\n",
      "Accuracy: 100.000000\n"
     ]
    }
   ],
   "source": [
    "model = Sequential()\n",
    "e = Embedding(vocab_size, 100, weights=[embedding_matrix], input_length=4, trainable=False)\n",
    "model.add(e)\n",
    "model.add(Flatten())\n",
    "model.add(Dense(256, activation='sigmoid'))\n",
    "model.add(Dense(1, activation='sigmoid'))\n",
    "# compile the model\n",
    "model.compile(optimizer='adam', loss='binary_crossentropy', metrics=['acc'])\n",
    "# summarize the model\n",
    "print(model.summary())\n",
    "# fit the model\n",
    "model.fit(padded_docs, labels, epochs=50, verbose=1)\n",
    "# evaluate the model\n",
    "loss, accuracy = model.evaluate(padded_docs, labels, verbose=0)\n",
    "print('Accuracy: %f' % (accuracy*100))"
   ]
  },
  {
   "cell_type": "code",
   "execution_count": null,
   "metadata": {
    "collapsed": true
   },
   "outputs": [],
   "source": []
  },
  {
   "cell_type": "code",
   "execution_count": null,
   "metadata": {
    "collapsed": true
   },
   "outputs": [],
   "source": []
  }
 ],
 "metadata": {
  "kernelspec": {
   "display_name": "Python 3",
   "language": "python",
   "name": "python3"
  },
  "language_info": {
   "codemirror_mode": {
    "name": "ipython",
    "version": 3
   },
   "file_extension": ".py",
   "mimetype": "text/x-python",
   "name": "python",
   "nbconvert_exporter": "python",
   "pygments_lexer": "ipython3",
   "version": "3.6.8"
  }
 },
 "nbformat": 4,
 "nbformat_minor": 2
}
